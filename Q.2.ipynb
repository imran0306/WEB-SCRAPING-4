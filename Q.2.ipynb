{
 "cells": [
  {
   "cell_type": "markdown",
   "id": "905a1f37",
   "metadata": {},
   "source": [
    "2. Scrape the details team India’s international fixtures from bcci.tv.\n",
    "Url = https://www.bcci.tv/.\n",
    "You need to find following details:\n",
    "A) Match title (I.e. 1\n",
    "st ODI)\n",
    "B) Series\n",
    "C) Place\n",
    "D) Date\n",
    "E) Time\n",
    "Note: - From bcci.tv home page you have reach to the international fixture page through code."
   ]
  },
  {
   "cell_type": "code",
   "execution_count": 2,
   "id": "b292a33b",
   "metadata": {},
   "outputs": [],
   "source": [
    "# Importing Libraries\n",
    "import selenium\n",
    "import pandas as pd\n",
    "import time\n",
    "\n",
    "from bs4 import BeautifulSoup\n",
    "\n",
    "# Importing selenium webdriver \n",
    "from selenium import webdriver\n",
    "\n",
    "# Importing required Exceptions which needs to handled\n",
    "from selenium.common.exceptions import StaleElementReferenceException, NoSuchElementException\n",
    "\n",
    "#Importing requests\n",
    "import requests\n",
    "\n",
    "# importing regex\n",
    "import re\n",
    "\n",
    "import warnings\n",
    "warnings.filterwarnings('ignore')\n",
    "\n",
    "from selenium.webdriver.common.keys import Keys\n",
    "from selenium.webdriver.common.by import By"
   ]
  },
  {
   "cell_type": "code",
   "execution_count": 3,
   "id": "84240aa3",
   "metadata": {},
   "outputs": [],
   "source": [
    "driver = webdriver.Chrome(r\"C:\\Users\\91620\\Downloads\\chromedriver_win32\\chromedriver.exe\")"
   ]
  },
  {
   "cell_type": "code",
   "execution_count": 4,
   "id": "4e851cda",
   "metadata": {},
   "outputs": [],
   "source": [
    "url = \"https://www.bcci.tv/\"\n",
    "driver.get(url)\n",
    "time.sleep(4)\n",
    "driver.maximize_window()"
   ]
  },
  {
   "cell_type": "code",
   "execution_count": 8,
   "id": "ec9bdac9",
   "metadata": {},
   "outputs": [],
   "source": [
    "#click on international\n",
    "international=driver.find_element(By.XPATH,\"//*[@id='navigation']/ul[1]/li[2]/a\")\n",
    "international.click()"
   ]
  },
  {
   "cell_type": "code",
   "execution_count": 11,
   "id": "c9857278",
   "metadata": {},
   "outputs": [],
   "source": [
    "# click on fixtures\n",
    "fixtures= driver.find_element(By.XPATH,\"//*[@id='fixtures-tab']\")\n",
    "fixtures.click()"
   ]
  },
  {
   "cell_type": "code",
   "execution_count": 21,
   "id": "14566560",
   "metadata": {},
   "outputs": [
    {
     "data": {
      "text/html": [
       "<div>\n",
       "<style scoped>\n",
       "    .dataframe tbody tr th:only-of-type {\n",
       "        vertical-align: middle;\n",
       "    }\n",
       "\n",
       "    .dataframe tbody tr th {\n",
       "        vertical-align: top;\n",
       "    }\n",
       "\n",
       "    .dataframe thead th {\n",
       "        text-align: right;\n",
       "    }\n",
       "</style>\n",
       "<table border=\"1\" class=\"dataframe\">\n",
       "  <thead>\n",
       "    <tr style=\"text-align: right;\">\n",
       "      <th></th>\n",
       "      <th>Match_title</th>\n",
       "      <th>Series</th>\n",
       "      <th>Place</th>\n",
       "      <th>Date</th>\n",
       "      <th>Time</th>\n",
       "    </tr>\n",
       "  </thead>\n",
       "  <tbody>\n",
       "    <tr>\n",
       "      <th>0</th>\n",
       "      <td>England Women\\nvs\\nIndia Women</td>\n",
       "      <td>INDIA WOMEN TOUR OF ENGLAND ODI SERIES 2022</td>\n",
       "      <td>County Ground,</td>\n",
       "      <td>18 SEP 2022</td>\n",
       "      <td>7:30 PM IST</td>\n",
       "    </tr>\n",
       "  </tbody>\n",
       "</table>\n",
       "</div>"
      ],
      "text/plain": [
       "                      Match_title  \\\n",
       "0  England Women\\nvs\\nIndia Women   \n",
       "\n",
       "                                        Series           Place         Date  \\\n",
       "0  INDIA WOMEN TOUR OF ENGLAND ODI SERIES 2022  County Ground,  18 SEP 2022   \n",
       "\n",
       "          Time  \n",
       "0  7:30 PM IST  "
      ]
     },
     "execution_count": 21,
     "metadata": {},
     "output_type": "execute_result"
    }
   ],
   "source": [
    "#Creating Empty list\n",
    "Match_title=[]\n",
    "Series=[]\n",
    "Place=[]\n",
    "Date=[]\n",
    "Time=[]\n",
    "\n",
    "#Scraping Match_title\n",
    "match_title= driver.find_elements(By.XPATH,\"//*[@id='fixtures']/div[3]/div[1]/div[1]/div/div[3]\")\n",
    "for i in match_title:\n",
    "    Match_title.append(i.text)\n",
    "    \n",
    "#Scraping Series\n",
    "series= driver.find_elements(By.XPATH,\"//*[@id='fixtures']/div[3]/div[1]/div[1]/div/div[1]/h5[2]/span\")\n",
    "for i in series:\n",
    "    Series.append(i.text)\n",
    "    \n",
    "#Scraping Place\n",
    "place= driver.find_elements(By.XPATH,\"//*[@id='fixtures']/div[3]/div[1]/div[1]/div/div[4]/div/span[2]\")\n",
    "for i in place:\n",
    "    Place.append(i.text)   \n",
    "  \n",
    " #Scraping Date\n",
    "date= driver.find_elements(By.XPATH,\"//*[@id='fixtures']/div[3]/div[1]/div[1]/div/div[1]/div/div[1]/h5\")\n",
    "for i in date:\n",
    "    Date.append(i.text)   \n",
    "    \n",
    "#Scraping Time\n",
    "time= driver.find_elements(By.XPATH,\"//*[@id='fixtures']/div[3]/div[1]/div[2]/div/div[1]/div/div[2]/h5\")\n",
    "for i in time:\n",
    "    Time.append(i.text) \n",
    "\n",
    "Fixture=pd.DataFrame({})\n",
    "Fixture['Match_title']=Match_title\n",
    "Fixture['Series']=Series\n",
    "Fixture['Place']=Place\n",
    "Fixture['Date']=Date\n",
    "Fixture['Time']=Time\n",
    "Fixture"
   ]
  }
 ],
 "metadata": {
  "kernelspec": {
   "display_name": "Python 3 (ipykernel)",
   "language": "python",
   "name": "python3"
  },
  "language_info": {
   "codemirror_mode": {
    "name": "ipython",
    "version": 3
   },
   "file_extension": ".py",
   "mimetype": "text/x-python",
   "name": "python",
   "nbconvert_exporter": "python",
   "pygments_lexer": "ipython3",
   "version": "3.9.7"
  }
 },
 "nbformat": 4,
 "nbformat_minor": 5
}
